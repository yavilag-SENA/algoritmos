{
  "nbformat": 4,
  "nbformat_minor": 0,
  "metadata": {
    "colab": {
      "provenance": [],
      "authorship_tag": "ABX9TyPCD6ccLYvRbqNEYzCW6bZK",
      "include_colab_link": true
    },
    "kernelspec": {
      "name": "python3",
      "display_name": "Python 3"
    },
    "language_info": {
      "name": "python"
    }
  },
  "cells": [
    {
      "cell_type": "markdown",
      "metadata": {
        "id": "view-in-github",
        "colab_type": "text"
      },
      "source": [
        "<a href=\"https://colab.research.google.com/github/yavilag-SENA/algoritmos/blob/main/Circuito_RC%2C_RL_y_RLC_Serie.ipynb\" target=\"_parent\"><img src=\"https://colab.research.google.com/assets/colab-badge.svg\" alt=\"Open In Colab\"/></a>"
      ]
    },
    {
      "cell_type": "markdown",
      "source": [
        "Circuito RC"
      ],
      "metadata": {
        "id": "Xr75B4dYstlA"
      }
    },
    {
      "cell_type": "code",
      "source": [
        "import matplotlib.pyplot as plt\n",
        "import math \n",
        "import cmath\n",
        "\n",
        "#funciones\n",
        "\n",
        "def a_radianes(a):\n",
        "  b=a*math.pi/180\n",
        "  return b\n",
        "\n",
        "def a_grados(c):\n",
        "  d=c*180/math.pi\n",
        "  return d\n",
        "\n",
        "def impedancia(mag_z,ang_z):\n",
        "  z=complex(mag_z*math.cos(ang_z),mag_z*math.sin(ang_z))\n",
        "  return z\n",
        "\n",
        "def fasor(mag_z,ang_z):\n",
        "  z=complex(mag_z*math.cos(ang_z),mag_z*math.sin(ang_z))\n",
        "  return z\n",
        "\n",
        "#Entradas al sistema\n",
        "R = float (input(\"Resistenica en Ohm: \"))\n",
        "C = float (input(\"Capacitancia en F: \"))\n",
        "V = float (input(\"Tensión en V rms: \"))\n",
        "f = float (input(\"Frecuencia en Hz: \"))\n",
        "\n",
        "#Calculos Impedancia \n",
        "w=2*math.pi*f  #Velocidad Angular\n",
        "Xc=1/(w*C)     #Reactancia Capacitiva\n",
        "ang_R=0\n",
        "ang_C=-90\n",
        "\n",
        "ang_R_rad=a_radianes(ang_R)\n",
        "ang_C_rad=a_radianes(ang_C)\n",
        "\n",
        "Zr=impedancia(R,ang_R_rad)\n",
        "Zc=impedancia(Xc,ang_C_rad)\n",
        "\n",
        "ZT=Zr+Zc\n",
        "\n",
        "#\"Calculos\" de la fuente\n",
        "# Fasor tensión\n",
        "ang_v=0\n",
        "ang_v_rad=a_radianes(ang_v)\n",
        "Volt=fasor(V,ang_v_rad)\n",
        "print(Volt)\n",
        "\n",
        "#Calculos de corriente\n",
        "iT=Volt/ZT\n",
        "mag_iT=abs(iT)\n",
        "ang_i_rad=cmath.phase(iT)\n",
        "ang_iT=a_grados(ang_i_rad)\n",
        "\n",
        "#Salida Tensión, Corriente e impedancia total\n",
        "Vp=V*math.sqrt(2)\n",
        "Ip=mag_iT*math.sqrt(2)\n",
        "\n",
        "grados=[]     #Eje horizontal de la gráfica\n",
        "voltaje=[]    #Valores de voltaje en el eje vertical\n",
        "corriente=[]  #Valores de voltaje en el eje vertical\n",
        "\n",
        "for i in range(0,361):\n",
        "  grados.append(i)\n",
        "  voltaje.append(Vp*math.sin(a_radianes(i)+ang_v_rad))\n",
        "  corriente.append(50*Ip*math.sin(a_radianes(i)+ang_i_rad))\n",
        "\n",
        "#Graficar\n",
        "plt.ylim(-Vp-10, Vp+10)\n",
        "plt.plot(grados,voltaje,\"r\")\n",
        "plt.plot(grados,corriente,\"g\")\n",
        "plt.show()\n",
        "\n",
        "print(\"* La corriente está en escala 50:1\")\n"
      ],
      "metadata": {
        "id": "FgMrCnGPstSL"
      },
      "execution_count": null,
      "outputs": []
    },
    {
      "cell_type": "markdown",
      "source": [
        "Circuito RL"
      ],
      "metadata": {
        "id": "e_TcJm3ZEyo-"
      }
    },
    {
      "cell_type": "code",
      "source": [
        "import matplotlib.pyplot as plt\n",
        "import math \n",
        "import cmath\n",
        "\n",
        "#funciones\n",
        "\n",
        "def a_radianes(a):\n",
        "  b=a*math.pi/180\n",
        "  return b\n",
        "\n",
        "def a_grados(c):\n",
        "  d=c*180/math.pi\n",
        "  return d\n",
        "\n",
        "def impedancia(mag_z,ang_z):\n",
        "  z=complex(mag_z*math.cos(ang_z),mag_z*math.sin(ang_z))\n",
        "  return z\n",
        "\n",
        "def fasor(mag_z,ang_z):\n",
        "  z=complex(mag_z*math.cos(ang_z),mag_z*math.sin(ang_z))\n",
        "  return z\n",
        "\n",
        "#Entradas al sistema\n",
        "R = float (input(\"Resistenica en Ohm: \"))\n",
        "#C = float (input(\"Capacitancia en F: \"))\n",
        "L = float (input(\"Inductancia en H: \"))\n",
        "V = float (input(\"Tensión en V rms: \"))\n",
        "f = float (input(\"Frecuencia en Hz: \"))\n",
        "\n",
        "#Calculos Impedancia \n",
        "w=2*math.pi*f  #Velocidad Angular\n",
        "#Xc=1/(w*C)     #Reactancia Capacitiva\n",
        "Xl=w*L\n",
        "ang_R=0\n",
        "#ang_C=-90\n",
        "ang_L=90\n",
        "\n",
        "ang_R_rad=a_radianes(ang_R)\n",
        "#ang_C_rad=a_radianes(ang_C)\n",
        "ang_L_rad=a_radianes(ang_L)\n",
        "\n",
        "Zr=impedancia(R,ang_R_rad)\n",
        "#Zc=impedancia(Xc,ang_C_rad)\n",
        "Zl=impedancia(Xl,ang_L_rad)\n",
        "\n",
        "ZT=Zr+Zl\n",
        "\n",
        "#\"Calculos\" de la fuente\n",
        "# Fasor tensión\n",
        "ang_v=0\n",
        "ang_v_rad=a_radianes(ang_v)\n",
        "Volt=fasor(V,ang_v_rad)\n",
        "print(Volt)\n",
        "\n",
        "#Calculos de corriente\n",
        "iT=Volt/ZT\n",
        "mag_iT=abs(iT)\n",
        "ang_i_rad=cmath.phase(iT)\n",
        "ang_iT=a_grados(ang_i_rad)\n",
        "\n",
        "#Salida Tensión, Corriente e impedancia total\n",
        "Vp=V*math.sqrt(2)\n",
        "Ip=mag_iT*math.sqrt(2)\n",
        "\n",
        "grados=[]     #Eje horizontal de la gráfica\n",
        "voltaje=[]    #Valores de voltaje en el eje vertical\n",
        "corriente=[]  #Valores de voltaje en el eje vertical\n",
        "\n",
        "for i in range(0,361):\n",
        "  grados.append(i)\n",
        "  voltaje.append(Vp*math.sin(a_radianes(i)+ang_v_rad))\n",
        "  corriente.append(50*Ip*math.sin(a_radianes(i)+ang_i_rad))\n",
        "\n",
        "#Graficar\n",
        "plt.ylim(-Vp-10, Vp+10)\n",
        "plt.plot(grados,voltaje,\"r\")\n",
        "plt.plot(grados,corriente,\"g\")\n",
        "plt.show()\n",
        "\n",
        "print(\"* La corriente está en escala 50:1\")\n"
      ],
      "metadata": {
        "colab": {
          "base_uri": "https://localhost:8080/",
          "height": 369
        },
        "id": "IOqrBbDJE6ac",
        "outputId": "9495c1c6-5fba-466b-e407-d9638812f504"
      },
      "execution_count": 16,
      "outputs": [
        {
          "output_type": "stream",
          "name": "stdout",
          "text": [
            "Resistenica en Ohm: 120\n",
            "Inductancia en H: 0.5\n",
            "Tensión en V rms: 120\n",
            "Frecuencia en Hz: 60\n",
            "(120+0j)\n"
          ]
        },
        {
          "output_type": "display_data",
          "data": {
            "text/plain": [
              "<Figure size 432x288 with 1 Axes>"
            ],
            "image/png": "[encoded data removed]"
          },
          "metadata": {
            "needs_background": "light"
          }
        },
        {
          "output_type": "stream",
          "name": "stdout",
          "text": [
            "* La corriente está en escala 50:1\n"
          ]
        }
      ]
    },
    {
      "cell_type": "markdown",
      "source": [
        "Circuito RLC"
      ],
      "metadata": {
        "id": "uYFp8HOtH-1Q"
      }
    },
    {
      "cell_type": "code",
      "source": [
        "import matplotlib.pyplot as plt\n",
        "import math \n",
        "import cmath\n",
        "\n",
        "#funciones\n",
        "\n",
        "def a_radianes(a):\n",
        "  b=a*math.pi/180\n",
        "  return b\n",
        "\n",
        "def a_grados(c):\n",
        "  d=c*180/math.pi\n",
        "  return d\n",
        "\n",
        "def impedancia(mag_z,ang_z):\n",
        "  z=complex(mag_z*math.cos(ang_z),mag_z*math.sin(ang_z))\n",
        "  return z\n",
        "\n",
        "def fasor(mag_z,ang_z):\n",
        "  z=complex(mag_z*math.cos(ang_z),mag_z*math.sin(ang_z))\n",
        "  return z\n",
        "\n",
        "#Entradas al sistema\n",
        "R = float (input(\"Resistenica en Ohm: \"))\n",
        "C = float (input(\"Capacitancia en F: \"))\n",
        "L = float (input(\"Inductancia en H: \"))\n",
        "V = float (input(\"Tensión en V rms: \"))\n",
        "f = float (input(\"Frecuencia en Hz: \"))\n",
        "\n",
        "#Calculos Impedancia \n",
        "w=2*math.pi*f  #Velocidad Angular\n",
        "\n",
        "if(C==0):\n",
        "  Xc=0\n",
        "else:\n",
        "  Xc=1/(w*C)     #Reactancia Capacitiva\n",
        "\n",
        "Xl=w*L           #Reactancia Inductiva\n",
        "\n",
        "ang_R=0\n",
        "ang_C=-90\n",
        "ang_L=90\n",
        "\n",
        "ang_R_rad=a_radianes(ang_R)\n",
        "ang_C_rad=a_radianes(ang_C)\n",
        "ang_L_rad=a_radianes(ang_L)\n",
        "\n",
        "Zr=impedancia(R,ang_R_rad)\n",
        "Zc=impedancia(Xc,ang_C_rad)\n",
        "Zl=impedancia(Xl,ang_L_rad)\n",
        "\n",
        "ZT=Zr+Zl+Zc\n",
        "\n",
        "#\"Calculos\" de la fuente\n",
        "# Fasor tensión\n",
        "ang_v=0\n",
        "ang_v_rad=a_radianes(ang_v)\n",
        "Volt=fasor(V,ang_v_rad)\n",
        "print(Volt)\n",
        "\n",
        "#Calculos de corriente\n",
        "iT=Volt/ZT\n",
        "mag_iT=abs(iT)\n",
        "ang_i_rad=cmath.phase(iT)\n",
        "ang_iT=a_grados(ang_i_rad)\n",
        "\n",
        "vr=iT*Zr\n",
        "mag_vr=abs(vr)\n",
        "ang_vr_rad=cmath.phase(vr)\n",
        "ang_vr=a_grados(ang_vr_rad)\n",
        "\n",
        "vc=iT*Zc\n",
        "mag_vc=abs(vc)\n",
        "ang_vc_rad=cmath.phase(vc)\n",
        "ang_vc=a_grados(ang_vc_rad)\n",
        "\n",
        "vl=iT*Zl\n",
        "mag_vl=abs(vl)\n",
        "ang_vl_rad=cmath.phase(vl)\n",
        "ang_vl=a_grados(ang_vl_rad)\n",
        "\n",
        "#Salida Tensión, Corriente e impedancia total\n",
        "Vp=V*math.sqrt(2)\n",
        "Ip=mag_iT*math.sqrt(2)\n",
        "vrp=vr*math.sqrt(2)\n",
        "vcp=vc*math.sqrt(2)\n",
        "vlp=vl*math.sqrt(2)\n",
        "\n",
        "grados=[]     #Eje horizontal de la gráfica\n",
        "voltaje=[]    #Valores de voltaje en el eje vertical\n",
        "corriente=[]  #Valores de voltaje en el eje vertical\n",
        "volt_r=[]\n",
        "volt_c=[]\n",
        "volt_l=[]\n",
        "\n",
        "for i in range(0,361):\n",
        "  grados.append(i)\n",
        "  voltaje.append(Vp*math.sin(a_radianes(i)+ang_v_rad))\n",
        "  volt_r.append(vrp*math.sin(a_radianes(i)+ang_vr_rad))\n",
        "  volt_l.append(vlp*math.sin(a_radianes(i)+ang_vl_rad))\n",
        "  volt_c.append(vcp*math.sin(a_radianes(i)+ang_vc_rad))\n",
        "  corriente.append(50*Ip*math.sin(a_radianes(i)+ang_i_rad))\n",
        "\n",
        "\n",
        "#Graficar\n",
        "plt.ylim(-Vp-10, Vp+10)\n",
        "plt.plot(grados,voltaje,\"r\")\n",
        "plt.plot(grados,corriente,\"g\")\n",
        "plt.plot(grados,volt_r,\"b\")\n",
        "plt.plot(grados,volt_c,\"c\")\n",
        "plt.plot(grados,volt_l,\"m\")\n",
        "plt.show()\n",
        "\n",
        "print(\"* La corriente está en escala 50:1\")"
      ],
      "metadata": {
        "colab": {
          "base_uri": "https://localhost:8080/",
          "height": 387
        },
        "id": "mBo2ZSodIAu-",
        "outputId": "0a53f177-038f-4e33-f092-efcca13797c2"
      },
      "execution_count": 21,
      "outputs": [
        {
          "output_type": "stream",
          "name": "stdout",
          "text": [
            "Resistenica en Ohm: 120\n",
            "Capacitancia en F: 25e-6\n",
            "Inductancia en H: 0.5\n",
            "Tensión en V rms: 120\n",
            "Frecuencia en Hz: 60\n",
            "(120+0j)\n"
          ]
        },
        {
          "output_type": "display_data",
          "data": {
            "text/plain": [
              "<Figure size 432x288 with 1 Axes>"
            ],
            "image/png": "[encoded data removed]"
          },
          "metadata": {
            "needs_background": "light"
          }
        },
        {
          "output_type": "stream",
          "name": "stdout",
          "text": [
            "* La corriente está en escala 50:1\n"
          ]
        }
      ]
    }
  ]
}